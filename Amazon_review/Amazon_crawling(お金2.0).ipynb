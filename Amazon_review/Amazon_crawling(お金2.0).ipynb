{
 "cells": [
  {
   "cell_type": "code",
   "execution_count": 1,
   "metadata": {},
   "outputs": [],
   "source": [
    "from selenium import webdriver\n",
    "import csv"
   ]
  },
  {
   "cell_type": "code",
   "execution_count": 11,
   "metadata": {},
   "outputs": [],
   "source": [
    "url = 'https://www.amazon.co.jp/%E3%81%8A%E9%87%912-0-%E6%96%B0%E3%81%97%E3%81%84%E7%B5%8C%E6%B8%88%E3%81%AE%E3%83%AB%E3%83%BC%E3%83%AB%E3%81%A8%E7%94%9F%E3%81%8D%E6%96%B9-NewsPicks-Book-%E4%BD%90%E8%97%A4/product-reviews/4344032152/ref=cm_cr_dp_d_show_all_btm?ie=UTF8&reviewerType=all_reviews'\n",
    "driver = webdriver.Chrome('/Users/ryotanomura/chromedriver')\n",
    "driver.get(url)"
   ]
  },
  {
   "cell_type": "code",
   "execution_count": 16,
   "metadata": {},
   "outputs": [],
   "source": [
    "review_list = []\n",
    "for i in range(50):\n",
    "    reviews = driver.find_elements_by_css_selector(\"div.a-row.a-spacing-small.review-data\")\n",
    "    for review in reviews:\n",
    "        review_list.append(review.text)\n",
    "    next_url = driver.find_element_by_css_selector(\"li.a-last > a\").get_attribute(\"href\")\n",
    "    driver.get(next_url)"
   ]
  },
  {
   "cell_type": "code",
   "execution_count": 19,
   "metadata": {},
   "outputs": [],
   "source": [
    "with open(\"amazon_review.csv\", \"w\", encoding=\"utf_8_sig\") as f: \n",
    "    writer = csv.writer(f, lineterminator=\"\\n\") \n",
    "    writer.writerow(review_list)"
   ]
  },
  {
   "cell_type": "code",
   "execution_count": null,
   "metadata": {},
   "outputs": [],
   "source": []
  }
 ],
 "metadata": {
  "kernelspec": {
   "display_name": "Python 3",
   "language": "python",
   "name": "python3"
  },
  "language_info": {
   "codemirror_mode": {
    "name": "ipython",
    "version": 3
   },
   "file_extension": ".py",
   "mimetype": "text/x-python",
   "name": "python",
   "nbconvert_exporter": "python",
   "pygments_lexer": "ipython3",
   "version": "3.6.5"
  }
 },
 "nbformat": 4,
 "nbformat_minor": 2
}
